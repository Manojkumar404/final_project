{
  "nbformat": 4,
  "nbformat_minor": 0,
  "metadata": {
    "kernelspec": {
      "display_name": "Python 3",
      "language": "python",
      "name": "python3"
    },
    "language_info": {
      "codemirror_mode": {
        "name": "ipython",
        "version": 3
      },
      "file_extension": ".py",
      "mimetype": "text/x-python",
      "name": "python",
      "nbconvert_exporter": "python",
      "pygments_lexer": "ipython3",
      "version": "3.7.9"
    },
    "papermill": {
      "default_parameters": {},
      "duration": 1006.409922,
      "end_time": "2021-03-26T01:26:17.513739",
      "environment_variables": {},
      "exception": null,
      "input_path": "__notebook__.ipynb",
      "output_path": "__notebook__.ipynb",
      "parameters": {},
      "start_time": "2021-03-26T01:09:31.103817",
      "version": "2.2.2"
    },
    "colab": {
      "name": "final_v2.ipynb",
      "provenance": [],
      "collapsed_sections": [],
      "toc_visible": true
    }
  },
  "cells": [
    {
      "cell_type": "markdown",
      "metadata": {
        "id": "zdgJw6oSx3_S"
      },
      "source": [
        "#Download the Movie100klens Dataset"
      ]
    },
    {
      "cell_type": "code",
      "metadata": {
        "execution": {
          "iopub.execute_input": "2021-03-26T01:09:38.264060Z",
          "iopub.status.busy": "2021-03-26T01:09:38.262933Z",
          "iopub.status.idle": "2021-03-26T01:09:41.386942Z",
          "shell.execute_reply": "2021-03-26T01:09:41.387507Z"
        },
        "papermill": {
          "duration": 3.143526,
          "end_time": "2021-03-26T01:09:41.387901",
          "exception": false,
          "start_time": "2021-03-26T01:09:38.244375",
          "status": "completed"
        },
        "tags": [],
        "colab": {
          "base_uri": "https://localhost:8080/"
        },
        "id": "rAigXD3idOLm",
        "outputId": "18616f7d-157f-4c3c-8615-49fd85f6750b"
      },
      "source": [
        "!git clone http://github.com/Manojkumar404/project.git"
      ],
      "execution_count": 1,
      "outputs": [
        {
          "output_type": "stream",
          "text": [
            "Cloning into 'project'...\n",
            "warning: redirecting to https://github.com/Manojkumar404/project.git/\n",
            "remote: Enumerating objects: 6, done.\u001b[K\n",
            "remote: Counting objects: 100% (6/6), done.\u001b[K\n",
            "remote: Compressing objects: 100% (6/6), done.\u001b[K\n",
            "remote: Total 6 (delta 0), reused 6 (delta 0), pack-reused 0\u001b[K\n",
            "Unpacking objects: 100% (6/6), done.\n"
          ],
          "name": "stdout"
        }
      ]
    },
    {
      "cell_type": "markdown",
      "metadata": {
        "id": "Wh77oYwmx2hm"
      },
      "source": [
        "#Import Required Libraries"
      ]
    },
    {
      "cell_type": "code",
      "metadata": {
        "id": "20ri81sGbl-3"
      },
      "source": [
        "import os\n",
        "import csv\n",
        "import pandas as pd\n",
        "import random\n",
        "import numpy as np\n",
        "from sklearn.model_selection import train_test_split\n",
        "from tqdm import tqdm\n",
        "\n",
        "import torch\n",
        "from torch import nn, optim\n",
        "from torch.utils.data import Dataset\n",
        "from torch.utils.data import DataLoader\n",
        "\n",
        "DATA_DIR = './project/'\n",
        "OUTPUT_DIR = './'\n",
        "\n",
        "class Config:\n",
        "    device='cpu'\n",
        "    epochs=40\n",
        "    seed=17\n",
        "    train_bs=8\n",
        "    valid_bs=8\n",
        "    embedding_dim=20\n",
        "    lr=1e-2\n",
        "    num_workers=None       \n",
        "    verbose_step=100\n",
        "    \n",
        "def torch_seed_everything(seed_value=777):\n",
        "    random.seed(seed_value)\n",
        "    np.random.seed(seed_value)\n",
        "    torch.manual_seed(seed_value)\n",
        "    os.environ['PYTHONHASHSEED'] = str(seed_value)\n",
        "\n",
        "    if torch.cuda.is_available():\n",
        "        torch.cuda.manual_seed(seed_value)\n",
        "        torch.cuda.manual_seed_all(seed_value)\n",
        "        torch.backends.cudnn.deterministic = True\n",
        "        torch.backends.cudnn.benchmark = True\n",
        "\n",
        "config=Config()\n",
        "torch_seed_everything(config.seed)"
      ],
      "execution_count": 2,
      "outputs": []
    },
    {
      "cell_type": "markdown",
      "metadata": {
        "papermill": {
          "duration": 0.012853,
          "end_time": "2021-03-26T01:09:41.413531",
          "exception": false,
          "start_time": "2021-03-26T01:09:41.400678",
          "status": "completed"
        },
        "tags": [],
        "id": "MhAaVEe9dOLq"
      },
      "source": [
        "# load full data"
      ]
    },
    {
      "cell_type": "code",
      "metadata": {
        "execution": {
          "iopub.execute_input": "2021-03-26T01:09:41.445643Z",
          "iopub.status.busy": "2021-03-26T01:09:41.444456Z",
          "iopub.status.idle": "2021-03-26T01:09:41.603266Z",
          "shell.execute_reply": "2021-03-26T01:09:41.603749Z"
        },
        "papermill": {
          "duration": 0.177347,
          "end_time": "2021-03-26T01:09:41.603981",
          "exception": false,
          "start_time": "2021-03-26T01:09:41.426634",
          "status": "completed"
        },
        "tags": [],
        "colab": {
          "base_uri": "https://localhost:8080/"
        },
        "id": "M5aoWxnldOLr",
        "outputId": "9a4c2b16-76d3-4a6c-84b9-c796dbab46c6"
      },
      "source": [
        "df = pd.read_csv(os.path.join(DATA_DIR, 'u.data'), sep='\\t', header=None)\n",
        "df.columns = ['user_id', 'item_id', 'rating', 'timestamp']\n",
        "#df = df.sort_values('timestamp').reset_index(drop=True)\n",
        "n_user1 = df.user_id.nunique()\n",
        "n_item1 = df.item_id.nunique()\n",
        "print(df)"
      ],
      "execution_count": 3,
      "outputs": [
        {
          "output_type": "stream",
          "text": [
            "       user_id  item_id  rating  timestamp\n",
            "0          196      242       3  881250949\n",
            "1          186      302       3  891717742\n",
            "2           22      377       1  878887116\n",
            "3          244       51       2  880606923\n",
            "4          166      346       1  886397596\n",
            "...        ...      ...     ...        ...\n",
            "99995      880      476       3  880175444\n",
            "99996      716      204       5  879795543\n",
            "99997      276     1090       1  874795795\n",
            "99998       13      225       2  882399156\n",
            "99999       12      203       3  879959583\n",
            "\n",
            "[100000 rows x 4 columns]\n"
          ],
          "name": "stdout"
        }
      ]
    },
    {
      "cell_type": "markdown",
      "metadata": {
        "id": "p-or3DjtJ2Fo"
      },
      "source": [
        "#Data clustering \n"
      ]
    },
    {
      "cell_type": "code",
      "metadata": {
        "id": "afRf1gAAFXaM"
      },
      "source": [
        "csvfile = open('project/u.data', 'r').readlines()\n",
        "filename = 1\n",
        "for i in range(len(csvfile)):\n",
        "     if i % 10000 == 0:\n",
        "         open(str(filename) + '.data', 'w+').writelines(csvfile[i:i+10000])\n",
        "         filename += 1"
      ],
      "execution_count": 4,
      "outputs": []
    },
    {
      "cell_type": "code",
      "metadata": {
        "colab": {
          "base_uri": "https://localhost:8080/",
          "height": 419
        },
        "id": "PXz_Vf6gIYbu",
        "outputId": "fe32f7e8-2a19-4b58-d14d-4dce98bfb0ca"
      },
      "source": [
        "df1 = pd.read_csv(os.path.join('1.data'), sep='\\t', header=None)\n",
        "df1.columns = ['user_id', 'item_id', 'rating', 'timestamp']\n",
        "n_user = df.user_id.nunique()\n",
        "n_item = df.item_id.nunique()\n",
        "df1"
      ],
      "execution_count": 5,
      "outputs": [
        {
          "output_type": "execute_result",
          "data": {
            "text/html": [
              "<div>\n",
              "<style scoped>\n",
              "    .dataframe tbody tr th:only-of-type {\n",
              "        vertical-align: middle;\n",
              "    }\n",
              "\n",
              "    .dataframe tbody tr th {\n",
              "        vertical-align: top;\n",
              "    }\n",
              "\n",
              "    .dataframe thead th {\n",
              "        text-align: right;\n",
              "    }\n",
              "</style>\n",
              "<table border=\"1\" class=\"dataframe\">\n",
              "  <thead>\n",
              "    <tr style=\"text-align: right;\">\n",
              "      <th></th>\n",
              "      <th>user_id</th>\n",
              "      <th>item_id</th>\n",
              "      <th>rating</th>\n",
              "      <th>timestamp</th>\n",
              "    </tr>\n",
              "  </thead>\n",
              "  <tbody>\n",
              "    <tr>\n",
              "      <th>0</th>\n",
              "      <td>196</td>\n",
              "      <td>242</td>\n",
              "      <td>3</td>\n",
              "      <td>881250949</td>\n",
              "    </tr>\n",
              "    <tr>\n",
              "      <th>1</th>\n",
              "      <td>186</td>\n",
              "      <td>302</td>\n",
              "      <td>3</td>\n",
              "      <td>891717742</td>\n",
              "    </tr>\n",
              "    <tr>\n",
              "      <th>2</th>\n",
              "      <td>22</td>\n",
              "      <td>377</td>\n",
              "      <td>1</td>\n",
              "      <td>878887116</td>\n",
              "    </tr>\n",
              "    <tr>\n",
              "      <th>3</th>\n",
              "      <td>244</td>\n",
              "      <td>51</td>\n",
              "      <td>2</td>\n",
              "      <td>880606923</td>\n",
              "    </tr>\n",
              "    <tr>\n",
              "      <th>4</th>\n",
              "      <td>166</td>\n",
              "      <td>346</td>\n",
              "      <td>1</td>\n",
              "      <td>886397596</td>\n",
              "    </tr>\n",
              "    <tr>\n",
              "      <th>...</th>\n",
              "      <td>...</td>\n",
              "      <td>...</td>\n",
              "      <td>...</td>\n",
              "      <td>...</td>\n",
              "    </tr>\n",
              "    <tr>\n",
              "      <th>9995</th>\n",
              "      <td>74</td>\n",
              "      <td>150</td>\n",
              "      <td>3</td>\n",
              "      <td>888333458</td>\n",
              "    </tr>\n",
              "    <tr>\n",
              "      <th>9996</th>\n",
              "      <td>178</td>\n",
              "      <td>195</td>\n",
              "      <td>4</td>\n",
              "      <td>882826944</td>\n",
              "    </tr>\n",
              "    <tr>\n",
              "      <th>9997</th>\n",
              "      <td>321</td>\n",
              "      <td>527</td>\n",
              "      <td>3</td>\n",
              "      <td>879439763</td>\n",
              "    </tr>\n",
              "    <tr>\n",
              "      <th>9998</th>\n",
              "      <td>337</td>\n",
              "      <td>742</td>\n",
              "      <td>5</td>\n",
              "      <td>875184353</td>\n",
              "    </tr>\n",
              "    <tr>\n",
              "      <th>9999</th>\n",
              "      <td>90</td>\n",
              "      <td>190</td>\n",
              "      <td>5</td>\n",
              "      <td>891383687</td>\n",
              "    </tr>\n",
              "  </tbody>\n",
              "</table>\n",
              "<p>10000 rows × 4 columns</p>\n",
              "</div>"
            ],
            "text/plain": [
              "      user_id  item_id  rating  timestamp\n",
              "0         196      242       3  881250949\n",
              "1         186      302       3  891717742\n",
              "2          22      377       1  878887116\n",
              "3         244       51       2  880606923\n",
              "4         166      346       1  886397596\n",
              "...       ...      ...     ...        ...\n",
              "9995       74      150       3  888333458\n",
              "9996      178      195       4  882826944\n",
              "9997      321      527       3  879439763\n",
              "9998      337      742       5  875184353\n",
              "9999       90      190       5  891383687\n",
              "\n",
              "[10000 rows x 4 columns]"
            ]
          },
          "metadata": {
            "tags": []
          },
          "execution_count": 5
        }
      ]
    },
    {
      "cell_type": "code",
      "metadata": {
        "colab": {
          "base_uri": "https://localhost:8080/",
          "height": 419
        },
        "id": "uTMZAZ7GIYij",
        "outputId": "1e227eb6-8aa4-4443-bced-93d3fa34deb8"
      },
      "source": [
        "df2 = pd.read_csv(os.path.join( '2.data'), sep='\\t', header=None)\n",
        "df2.columns = ['user_id', 'item_id', 'rating', 'timestamp']\n",
        "#df = df.sort_values('timestamp').reset_index(drop=True)\n",
        "n_user2 = df2.user_id.nunique()\n",
        "n_item2 = df2.item_id.nunique()\n",
        "df2"
      ],
      "execution_count": 6,
      "outputs": [
        {
          "output_type": "execute_result",
          "data": {
            "text/html": [
              "<div>\n",
              "<style scoped>\n",
              "    .dataframe tbody tr th:only-of-type {\n",
              "        vertical-align: middle;\n",
              "    }\n",
              "\n",
              "    .dataframe tbody tr th {\n",
              "        vertical-align: top;\n",
              "    }\n",
              "\n",
              "    .dataframe thead th {\n",
              "        text-align: right;\n",
              "    }\n",
              "</style>\n",
              "<table border=\"1\" class=\"dataframe\">\n",
              "  <thead>\n",
              "    <tr style=\"text-align: right;\">\n",
              "      <th></th>\n",
              "      <th>user_id</th>\n",
              "      <th>item_id</th>\n",
              "      <th>rating</th>\n",
              "      <th>timestamp</th>\n",
              "    </tr>\n",
              "  </thead>\n",
              "  <tbody>\n",
              "    <tr>\n",
              "      <th>0</th>\n",
              "      <td>56</td>\n",
              "      <td>189</td>\n",
              "      <td>4</td>\n",
              "      <td>892683248</td>\n",
              "    </tr>\n",
              "    <tr>\n",
              "      <th>1</th>\n",
              "      <td>325</td>\n",
              "      <td>403</td>\n",
              "      <td>2</td>\n",
              "      <td>891479102</td>\n",
              "    </tr>\n",
              "    <tr>\n",
              "      <th>2</th>\n",
              "      <td>336</td>\n",
              "      <td>845</td>\n",
              "      <td>1</td>\n",
              "      <td>877758035</td>\n",
              "    </tr>\n",
              "    <tr>\n",
              "      <th>3</th>\n",
              "      <td>13</td>\n",
              "      <td>802</td>\n",
              "      <td>2</td>\n",
              "      <td>882398254</td>\n",
              "    </tr>\n",
              "    <tr>\n",
              "      <th>4</th>\n",
              "      <td>64</td>\n",
              "      <td>202</td>\n",
              "      <td>4</td>\n",
              "      <td>889738993</td>\n",
              "    </tr>\n",
              "    <tr>\n",
              "      <th>...</th>\n",
              "      <td>...</td>\n",
              "      <td>...</td>\n",
              "      <td>...</td>\n",
              "      <td>...</td>\n",
              "    </tr>\n",
              "    <tr>\n",
              "      <th>9995</th>\n",
              "      <td>21</td>\n",
              "      <td>320</td>\n",
              "      <td>3</td>\n",
              "      <td>874951658</td>\n",
              "    </tr>\n",
              "    <tr>\n",
              "      <th>9996</th>\n",
              "      <td>1</td>\n",
              "      <td>170</td>\n",
              "      <td>5</td>\n",
              "      <td>876892856</td>\n",
              "    </tr>\n",
              "    <tr>\n",
              "      <th>9997</th>\n",
              "      <td>436</td>\n",
              "      <td>66</td>\n",
              "      <td>5</td>\n",
              "      <td>887770457</td>\n",
              "    </tr>\n",
              "    <tr>\n",
              "      <th>9998</th>\n",
              "      <td>385</td>\n",
              "      <td>1021</td>\n",
              "      <td>5</td>\n",
              "      <td>879441572</td>\n",
              "    </tr>\n",
              "    <tr>\n",
              "      <th>9999</th>\n",
              "      <td>222</td>\n",
              "      <td>825</td>\n",
              "      <td>3</td>\n",
              "      <td>878184675</td>\n",
              "    </tr>\n",
              "  </tbody>\n",
              "</table>\n",
              "<p>10000 rows × 4 columns</p>\n",
              "</div>"
            ],
            "text/plain": [
              "      user_id  item_id  rating  timestamp\n",
              "0          56      189       4  892683248\n",
              "1         325      403       2  891479102\n",
              "2         336      845       1  877758035\n",
              "3          13      802       2  882398254\n",
              "4          64      202       4  889738993\n",
              "...       ...      ...     ...        ...\n",
              "9995       21      320       3  874951658\n",
              "9996        1      170       5  876892856\n",
              "9997      436       66       5  887770457\n",
              "9998      385     1021       5  879441572\n",
              "9999      222      825       3  878184675\n",
              "\n",
              "[10000 rows x 4 columns]"
            ]
          },
          "metadata": {
            "tags": []
          },
          "execution_count": 6
        }
      ]
    },
    {
      "cell_type": "code",
      "metadata": {
        "colab": {
          "base_uri": "https://localhost:8080/",
          "height": 419
        },
        "id": "urbZYz52IYsK",
        "outputId": "5ac55173-9d86-4a64-e170-bf92d212beb6"
      },
      "source": [
        "df3 = pd.read_csv(os.path.join('3.data'), sep='\\t', header=None)\n",
        "df3.columns = ['user_id', 'item_id', 'rating', 'timestamp']\n",
        "#df = df.sort_values('timestamp').reset_index(drop=True)\n",
        "n_user3 = df3.user_id.nunique()\n",
        "n_item3 = df3.item_id.nunique()\n",
        "df3"
      ],
      "execution_count": 7,
      "outputs": [
        {
          "output_type": "execute_result",
          "data": {
            "text/html": [
              "<div>\n",
              "<style scoped>\n",
              "    .dataframe tbody tr th:only-of-type {\n",
              "        vertical-align: middle;\n",
              "    }\n",
              "\n",
              "    .dataframe tbody tr th {\n",
              "        vertical-align: top;\n",
              "    }\n",
              "\n",
              "    .dataframe thead th {\n",
              "        text-align: right;\n",
              "    }\n",
              "</style>\n",
              "<table border=\"1\" class=\"dataframe\">\n",
              "  <thead>\n",
              "    <tr style=\"text-align: right;\">\n",
              "      <th></th>\n",
              "      <th>user_id</th>\n",
              "      <th>item_id</th>\n",
              "      <th>rating</th>\n",
              "      <th>timestamp</th>\n",
              "    </tr>\n",
              "  </thead>\n",
              "  <tbody>\n",
              "    <tr>\n",
              "      <th>0</th>\n",
              "      <td>391</td>\n",
              "      <td>222</td>\n",
              "      <td>2</td>\n",
              "      <td>877399864</td>\n",
              "    </tr>\n",
              "    <tr>\n",
              "      <th>1</th>\n",
              "      <td>462</td>\n",
              "      <td>895</td>\n",
              "      <td>4</td>\n",
              "      <td>886365297</td>\n",
              "    </tr>\n",
              "    <tr>\n",
              "      <th>2</th>\n",
              "      <td>268</td>\n",
              "      <td>288</td>\n",
              "      <td>4</td>\n",
              "      <td>875306477</td>\n",
              "    </tr>\n",
              "    <tr>\n",
              "      <th>3</th>\n",
              "      <td>21</td>\n",
              "      <td>706</td>\n",
              "      <td>2</td>\n",
              "      <td>874951695</td>\n",
              "    </tr>\n",
              "    <tr>\n",
              "      <th>4</th>\n",
              "      <td>207</td>\n",
              "      <td>527</td>\n",
              "      <td>4</td>\n",
              "      <td>877879172</td>\n",
              "    </tr>\n",
              "    <tr>\n",
              "      <th>...</th>\n",
              "      <td>...</td>\n",
              "      <td>...</td>\n",
              "      <td>...</td>\n",
              "      <td>...</td>\n",
              "    </tr>\n",
              "    <tr>\n",
              "      <th>9995</th>\n",
              "      <td>392</td>\n",
              "      <td>114</td>\n",
              "      <td>4</td>\n",
              "      <td>891038401</td>\n",
              "    </tr>\n",
              "    <tr>\n",
              "      <th>9996</th>\n",
              "      <td>8</td>\n",
              "      <td>174</td>\n",
              "      <td>5</td>\n",
              "      <td>879362183</td>\n",
              "    </tr>\n",
              "    <tr>\n",
              "      <th>9997</th>\n",
              "      <td>244</td>\n",
              "      <td>655</td>\n",
              "      <td>5</td>\n",
              "      <td>880605766</td>\n",
              "    </tr>\n",
              "    <tr>\n",
              "      <th>9998</th>\n",
              "      <td>535</td>\n",
              "      <td>174</td>\n",
              "      <td>4</td>\n",
              "      <td>879617747</td>\n",
              "    </tr>\n",
              "    <tr>\n",
              "      <th>9999</th>\n",
              "      <td>129</td>\n",
              "      <td>882</td>\n",
              "      <td>2</td>\n",
              "      <td>883244662</td>\n",
              "    </tr>\n",
              "  </tbody>\n",
              "</table>\n",
              "<p>10000 rows × 4 columns</p>\n",
              "</div>"
            ],
            "text/plain": [
              "      user_id  item_id  rating  timestamp\n",
              "0         391      222       2  877399864\n",
              "1         462      895       4  886365297\n",
              "2         268      288       4  875306477\n",
              "3          21      706       2  874951695\n",
              "4         207      527       4  877879172\n",
              "...       ...      ...     ...        ...\n",
              "9995      392      114       4  891038401\n",
              "9996        8      174       5  879362183\n",
              "9997      244      655       5  880605766\n",
              "9998      535      174       4  879617747\n",
              "9999      129      882       2  883244662\n",
              "\n",
              "[10000 rows x 4 columns]"
            ]
          },
          "metadata": {
            "tags": []
          },
          "execution_count": 7
        }
      ]
    },
    {
      "cell_type": "code",
      "metadata": {
        "colab": {
          "base_uri": "https://localhost:8080/",
          "height": 419
        },
        "id": "Nj1-fjoum9Fi",
        "outputId": "a0662645-5b32-4f40-fcdc-4dd7f746f966"
      },
      "source": [
        "df4 = pd.read_csv(os.path.join('3.data'), sep='\\t', header=None)\n",
        "df4.columns = ['user_id', 'item_id', 'rating', 'timestamp']\n",
        "#df = df.sort_values('timestamp').reset_index(drop=True)\n",
        "n_user4 = df4.user_id.nunique()\n",
        "n_item4 = df4.item_id.nunique()\n",
        "df4"
      ],
      "execution_count": 8,
      "outputs": [
        {
          "output_type": "execute_result",
          "data": {
            "text/html": [
              "<div>\n",
              "<style scoped>\n",
              "    .dataframe tbody tr th:only-of-type {\n",
              "        vertical-align: middle;\n",
              "    }\n",
              "\n",
              "    .dataframe tbody tr th {\n",
              "        vertical-align: top;\n",
              "    }\n",
              "\n",
              "    .dataframe thead th {\n",
              "        text-align: right;\n",
              "    }\n",
              "</style>\n",
              "<table border=\"1\" class=\"dataframe\">\n",
              "  <thead>\n",
              "    <tr style=\"text-align: right;\">\n",
              "      <th></th>\n",
              "      <th>user_id</th>\n",
              "      <th>item_id</th>\n",
              "      <th>rating</th>\n",
              "      <th>timestamp</th>\n",
              "    </tr>\n",
              "  </thead>\n",
              "  <tbody>\n",
              "    <tr>\n",
              "      <th>0</th>\n",
              "      <td>391</td>\n",
              "      <td>222</td>\n",
              "      <td>2</td>\n",
              "      <td>877399864</td>\n",
              "    </tr>\n",
              "    <tr>\n",
              "      <th>1</th>\n",
              "      <td>462</td>\n",
              "      <td>895</td>\n",
              "      <td>4</td>\n",
              "      <td>886365297</td>\n",
              "    </tr>\n",
              "    <tr>\n",
              "      <th>2</th>\n",
              "      <td>268</td>\n",
              "      <td>288</td>\n",
              "      <td>4</td>\n",
              "      <td>875306477</td>\n",
              "    </tr>\n",
              "    <tr>\n",
              "      <th>3</th>\n",
              "      <td>21</td>\n",
              "      <td>706</td>\n",
              "      <td>2</td>\n",
              "      <td>874951695</td>\n",
              "    </tr>\n",
              "    <tr>\n",
              "      <th>4</th>\n",
              "      <td>207</td>\n",
              "      <td>527</td>\n",
              "      <td>4</td>\n",
              "      <td>877879172</td>\n",
              "    </tr>\n",
              "    <tr>\n",
              "      <th>...</th>\n",
              "      <td>...</td>\n",
              "      <td>...</td>\n",
              "      <td>...</td>\n",
              "      <td>...</td>\n",
              "    </tr>\n",
              "    <tr>\n",
              "      <th>9995</th>\n",
              "      <td>392</td>\n",
              "      <td>114</td>\n",
              "      <td>4</td>\n",
              "      <td>891038401</td>\n",
              "    </tr>\n",
              "    <tr>\n",
              "      <th>9996</th>\n",
              "      <td>8</td>\n",
              "      <td>174</td>\n",
              "      <td>5</td>\n",
              "      <td>879362183</td>\n",
              "    </tr>\n",
              "    <tr>\n",
              "      <th>9997</th>\n",
              "      <td>244</td>\n",
              "      <td>655</td>\n",
              "      <td>5</td>\n",
              "      <td>880605766</td>\n",
              "    </tr>\n",
              "    <tr>\n",
              "      <th>9998</th>\n",
              "      <td>535</td>\n",
              "      <td>174</td>\n",
              "      <td>4</td>\n",
              "      <td>879617747</td>\n",
              "    </tr>\n",
              "    <tr>\n",
              "      <th>9999</th>\n",
              "      <td>129</td>\n",
              "      <td>882</td>\n",
              "      <td>2</td>\n",
              "      <td>883244662</td>\n",
              "    </tr>\n",
              "  </tbody>\n",
              "</table>\n",
              "<p>10000 rows × 4 columns</p>\n",
              "</div>"
            ],
            "text/plain": [
              "      user_id  item_id  rating  timestamp\n",
              "0         391      222       2  877399864\n",
              "1         462      895       4  886365297\n",
              "2         268      288       4  875306477\n",
              "3          21      706       2  874951695\n",
              "4         207      527       4  877879172\n",
              "...       ...      ...     ...        ...\n",
              "9995      392      114       4  891038401\n",
              "9996        8      174       5  879362183\n",
              "9997      244      655       5  880605766\n",
              "9998      535      174       4  879617747\n",
              "9999      129      882       2  883244662\n",
              "\n",
              "[10000 rows x 4 columns]"
            ]
          },
          "metadata": {
            "tags": []
          },
          "execution_count": 8
        }
      ]
    },
    {
      "cell_type": "markdown",
      "metadata": {
        "id": "kgClse7oVWQj"
      },
      "source": [
        "#Matrix Factorization"
      ]
    },
    {
      "cell_type": "code",
      "metadata": {
        "id": "c8nzDZvrPWSN"
      },
      "source": [
        "class MF:\n",
        "\n",
        "    def __init__(self,lmbda = 0.01, learning_rate=0.001,max_iteration=10000,rank=10,verbose=True,gap=None):\n",
        "\n",
        "        self.lmbda = lmbda\n",
        "        self.lr = learning_rate\n",
        "        self.max_iteration = max_iteration\n",
        "        self.rank = rank\n",
        "        self.verb = verbose\n",
        "        self.gap = gap\n",
        "        self.U = None\n",
        "        self.V = None\n",
        "        self.gap = (max_iteration / 10) if gap is None else gap\n",
        "        \n",
        "    def mse(self,truth, pred):\n",
        "        \"\"\"Returns the mse of nonzero errors\"\"\"\n",
        "        pred = pred[truth.nonzero()].flatten()\n",
        "        truth = truth[truth.nonzero()].flatten()\n",
        "        return mean_squared_error(truth, pred)\n",
        "    def mae(self,truth, pred):\n",
        "        \"\"\"Returns the mse of nonzero errors\"\"\"\n",
        "        pred = pred[truth.nonzero()].flatten()\n",
        "        truth = truth[truth.nonzero()].flatten()\n",
        "        return mean_absolute_error(truth, pred)\n",
        "\n",
        "    def graph(self,testset=False):\n",
        "        \"\"\"\n",
        "        Training and test graph with other meta data.\n",
        "        \"\"\"\n",
        "        fig, ax = plt.subplots(facecolor='white',figsize=(10,5))\n",
        "        train = [w[0] for w in self.history]\n",
        "        test = [w[1] for w in self.history]\n",
        "        x = list(range(0,self.max_iteration+2,int(self.gap)))\n",
        "        ax.plot(x,train,color='red',label='Train MSE')\n",
        "        if testset==True:\n",
        "            ax.plot(x,test,color='green',label='Test MSE')\n",
        "        ax.legend()\n",
        "        ax.grid(True)\n",
        "        ax.set_xlabel(\"Iteration\")\n",
        "        ax.set_ylabel(\"MSE\")\n",
        "        caption = f'lmbda: {lmb} lr: {self.lr} iteration: {self.max_iteration}'\n",
        "        plt.title(caption)\n",
        "        plt.show()\n",
        "\n",
        "    def predict(self,query_embedding,type='neighbour',name='Aladdin',measure='cosine'):\n",
        "\n",
        "        \n",
        "        u = query_embedding\n",
        "        V = self.V\n",
        "        if measure == 'cosine':\n",
        "            V = V / np.linalg.norm(V, axis=1, keepdims=True)\n",
        "            u = u / np.linalg.norm(u)\n",
        "        sim_vector = u.dot(V.T)\n",
        "        return sim_vector\n",
        "\n",
        "    \n",
        "    def SGD(self,A,rated_rows,rated_cols,A_test=None):\n",
        "     \n",
        "        self.history= []\n",
        "        for itr in range(self.max_iteration):\n",
        "            # choosing an observed user,item combination\n",
        "            u = np.random.choice(rated_rows)\n",
        "            i = np.random.choice(rated_cols)\n",
        "            #forward pass\n",
        "            error = A[u,i] - np.dot(self.U[u], self.V[i])  # check this line alone\n",
        "    #         cost = error**2 + lmbda * (np.linalg.norm(self.U[u])**2 + np.linalg.norm(self.V[i])**2)        \n",
        "            # backward pass\n",
        "            tmp = self.U[u]\n",
        "            self.U[u] = self.U[u] + self.lr * (error * self.V[i] - self.lmbda * self.U[u])\n",
        "            self.V[i] = self.V[i] + self.lr * (error * tmp - self.lmbda * self.V[i])\n",
        "            \n",
        "            if (itr % self.gap) == 0 or itr == self.max_iteration - 1:\n",
        "                A_hat = np.dot(self.U,self.V.T)\n",
        "                train_mse = self.mse(A,A_hat)\n",
        "                test_mse = -1\n",
        "                if isinstance(A_test,np.ndarray):\n",
        "                    test_mse = self.mse(A_test,A_hat)\n",
        "                self.history.append((train_mse,test_mse))\n",
        "                if self.verb==True:\n",
        "                    print(\"iteration %d, TrainMSE: %.2f TestMSE: %.2f\"%\n",
        "                          (itr,train_mse,test_mse))\n",
        "                train_mae = self.mae(A,A_hat)\n",
        "                test_mae = -1\n",
        "                if isinstance(A_test,np.ndarray):\n",
        "                    test_mae = self.mse(A_test,A_hat)\n",
        "                self.history.append((train_mae,test_mae))\n",
        "                if self.verb==True:\n",
        "                    print(\"iteration %d, RMSE: %.2f  RMAE: %.2f\"% (itr,train_mse,train_mae))\n",
        "    \n",
        "    def fit(self,A,A_test=None):\n",
        "       \n",
        "        rated_rows,rated_cols = A.nonzero()\n",
        "        n_user = A.shape[0]\n",
        "        n_item = A.shape[1]\n",
        "        if self.U is None:\n",
        "            self.U = np.random.rand(n_user,self.rank)\n",
        "            self.V = np.random.rand(n_item,self.rank)\n",
        "        # used in verbose mode\n",
        "        self.SGD(A,rated_rows,rated_cols,A_test)"
      ],
      "execution_count": 9,
      "outputs": []
    },
    {
      "cell_type": "markdown",
      "metadata": {
        "id": "ydMQQlZ-VLxX"
      },
      "source": [
        "#Data Splitting"
      ]
    },
    {
      "cell_type": "code",
      "metadata": {
        "id": "zAGhPsGMPt1O"
      },
      "source": [
        "def split(data):\n",
        "    \"\"\"\n",
        "    Splits 100k data between train and test set, and builts corresponding rating matrix, A for each set\n",
        "    \"\"\"\n",
        "    # n_user = data.user_id.nunique()\n",
        "    # n_item = data.item_id.nunique()\n",
        "    train,test = train_test_split(data,test_size=0.3)\n",
        "    # print(train.shape)\n",
        "    # print(n_user.shape)\n",
        "    def fun1(x):\n",
        "        A_train[x[0],x[1]] = x[2]\n",
        "        return x\n",
        "    def fun2(x):\n",
        "        A_test[x[0],x[1]] = x[2]\n",
        "        return x\n",
        "    A_train = np.zeros((n_user,n_item))\n",
        "    A_test = np.zeros((n_user,n_item))\n",
        "    train.apply(fun1, axis=1)\n",
        "    test.apply(fun2,axis=1)\n",
        "    return A_train, A_test"
      ],
      "execution_count": 10,
      "outputs": []
    },
    {
      "cell_type": "code",
      "metadata": {
        "id": "8K76vlVtP14f"
      },
      "source": [
        "A_train,A_test = split(df1)\n",
        "A_train2,A_test2 = split(df2)\n",
        "A_train3,A_test3 = split(df3)\n",
        "A_train4,A_test4 = split(df4)"
      ],
      "execution_count": 11,
      "outputs": []
    },
    {
      "cell_type": "markdown",
      "metadata": {
        "id": "PUmqQZJOVIHo"
      },
      "source": [
        "# Gaussian Noise Integration"
      ]
    },
    {
      "cell_type": "code",
      "metadata": {
        "id": "5DLvbbUNgUSW",
        "colab": {
          "base_uri": "https://localhost:8080/"
        },
        "outputId": "613aa563-03d0-4bb4-dd3e-f59e065f1c34"
      },
      "source": [
        "epsilon = 1\n",
        "\n",
        "delta = 10e-5\n",
        "sigma = np.sqrt(2 * np.log(1.25 / delta)) * 1 / epsilon\n",
        "vals_gauss =np.random.normal(0,sigma,(943,1682))\n",
        "\n",
        "A_train_noise = A_train+vals_gauss\n",
        "A_test_noise = A_test+vals_gauss\n",
        "A_train_noise2 = A_train2+vals_gauss\n",
        "A_test_noise2 = A_test2+vals_gauss\n",
        "A_train_noise3 = A_train3+vals_gauss\n",
        "A_test_noise3 = A_test3+vals_gauss\n",
        "A_train_noise4 = A_train4+vals_gauss\n",
        "A_test_noise4 = A_test4+vals_gauss\n",
        "print(A_train_noise)\n",
        "print(A_test_noise)\n",
        "print(A_train_noise2)\n",
        "print(A_test_noise2)\n",
        "print(A_train_noise3)\n",
        "print(A_test_noise3)\n",
        "print(A_train_noise4)\n",
        "print(A_test_noise4)\n"
      ],
      "execution_count": 12,
      "outputs": [
        {
          "output_type": "stream",
          "text": [
            "[[ -4.86428999   4.46053943   3.15288465 ...  -6.62652113  -1.95274114\n",
            "    2.33180541]\n",
            " [ -3.93889563  -5.63024471   6.28188206 ...   3.35266893   9.60115829\n",
            "   -0.85717285]\n",
            " [ -4.9449349    0.66944911  -1.25879307 ...   3.27149888 -10.4852328\n",
            "   -4.6998701 ]\n",
            " ...\n",
            " [ -2.59638922  -0.82190885   2.97301008 ...   4.32310057   1.24313722\n",
            "   14.80027921]\n",
            " [  3.21660635   7.61570237   3.28495428 ...   2.13863357   2.28779659\n",
            "    2.00918283]\n",
            " [ -5.2152718    8.62392449   5.15544842 ...   2.84942624   2.69560667\n",
            "    0.21481734]]\n",
            "[[ -4.86428999   4.46053943   3.15288465 ...  -6.62652113  -1.95274114\n",
            "    2.33180541]\n",
            " [ -3.93889563  -5.63024471   6.28188206 ...   3.35266893   9.60115829\n",
            "   -0.85717285]\n",
            " [ -4.9449349    0.66944911  -1.25879307 ...   3.27149888 -10.4852328\n",
            "   -4.6998701 ]\n",
            " ...\n",
            " [ -2.59638922  -0.82190885   2.97301008 ...   4.32310057   1.24313722\n",
            "   14.80027921]\n",
            " [  3.21660635   7.61570237   3.28495428 ...   2.13863357   2.28779659\n",
            "    2.00918283]\n",
            " [ -5.2152718    8.62392449   5.15544842 ...   2.84942624   2.69560667\n",
            "    0.21481734]]\n",
            "[[ -4.86428999   4.46053943   3.15288465 ...  -6.62652113  -1.95274114\n",
            "    2.33180541]\n",
            " [ -3.93889563  -5.63024471   6.28188206 ...   3.35266893   9.60115829\n",
            "   -0.85717285]\n",
            " [ -4.9449349    0.66944911  -1.25879307 ...   3.27149888 -10.4852328\n",
            "   -4.6998701 ]\n",
            " ...\n",
            " [ -2.59638922  -0.82190885   2.97301008 ...   4.32310057   1.24313722\n",
            "   14.80027921]\n",
            " [  3.21660635   7.61570237   3.28495428 ...   2.13863357   2.28779659\n",
            "    2.00918283]\n",
            " [ -5.2152718    8.62392449   5.15544842 ...   2.84942624   2.69560667\n",
            "    0.21481734]]\n",
            "[[ -4.86428999   4.46053943   3.15288465 ...  -6.62652113  -1.95274114\n",
            "    2.33180541]\n",
            " [ -3.93889563  -5.63024471   6.28188206 ...   3.35266893   9.60115829\n",
            "   -0.85717285]\n",
            " [ -4.9449349    0.66944911  -1.25879307 ...   3.27149888 -10.4852328\n",
            "   -4.6998701 ]\n",
            " ...\n",
            " [ -2.59638922  -0.82190885   2.97301008 ...   4.32310057   1.24313722\n",
            "   14.80027921]\n",
            " [  3.21660635   7.61570237   3.28495428 ...   2.13863357   2.28779659\n",
            "    2.00918283]\n",
            " [ -5.2152718    8.62392449   5.15544842 ...   2.84942624   2.69560667\n",
            "    0.21481734]]\n",
            "[[ -4.86428999   4.46053943   3.15288465 ...  -6.62652113  -1.95274114\n",
            "    2.33180541]\n",
            " [ -3.93889563  -5.63024471   9.28188206 ...   3.35266893   9.60115829\n",
            "   -0.85717285]\n",
            " [ -4.9449349    0.66944911  -1.25879307 ...   3.27149888 -10.4852328\n",
            "   -4.6998701 ]\n",
            " ...\n",
            " [ -2.59638922  -0.82190885   2.97301008 ...   4.32310057   1.24313722\n",
            "   14.80027921]\n",
            " [  3.21660635   7.61570237   3.28495428 ...   2.13863357   2.28779659\n",
            "    2.00918283]\n",
            " [ -5.2152718    8.62392449   5.15544842 ...   2.84942624   2.69560667\n",
            "    0.21481734]]\n",
            "[[ -4.86428999   4.46053943   3.15288465 ...  -6.62652113  -1.95274114\n",
            "    2.33180541]\n",
            " [ -3.93889563  -5.63024471   6.28188206 ...   3.35266893   9.60115829\n",
            "   -0.85717285]\n",
            " [ -4.9449349    4.66944911  -1.25879307 ...   3.27149888 -10.4852328\n",
            "   -4.6998701 ]\n",
            " ...\n",
            " [ -2.59638922  -0.82190885   2.97301008 ...   4.32310057   1.24313722\n",
            "   14.80027921]\n",
            " [  3.21660635   7.61570237   3.28495428 ...   2.13863357   2.28779659\n",
            "    2.00918283]\n",
            " [ -5.2152718    8.62392449   5.15544842 ...   2.84942624   2.69560667\n",
            "    0.21481734]]\n",
            "[[ -4.86428999   4.46053943   3.15288465 ...  -6.62652113  -1.95274114\n",
            "    2.33180541]\n",
            " [ -3.93889563  -5.63024471   9.28188206 ...   3.35266893   9.60115829\n",
            "   -0.85717285]\n",
            " [ -4.9449349    4.66944911  -1.25879307 ...   3.27149888 -10.4852328\n",
            "   -4.6998701 ]\n",
            " ...\n",
            " [ -2.59638922  -0.82190885   2.97301008 ...   4.32310057   1.24313722\n",
            "   14.80027921]\n",
            " [  3.21660635   7.61570237   3.28495428 ...   2.13863357   2.28779659\n",
            "    2.00918283]\n",
            " [ -5.2152718    8.62392449   5.15544842 ...   2.84942624   2.69560667\n",
            "    0.21481734]]\n",
            "[[ -4.86428999   4.46053943   3.15288465 ...  -6.62652113  -1.95274114\n",
            "    2.33180541]\n",
            " [ -3.93889563  -5.63024471   6.28188206 ...   3.35266893   9.60115829\n",
            "   -0.85717285]\n",
            " [ -4.9449349    0.66944911  -1.25879307 ...   3.27149888 -10.4852328\n",
            "   -4.6998701 ]\n",
            " ...\n",
            " [ -2.59638922  -0.82190885   2.97301008 ...   4.32310057   1.24313722\n",
            "   14.80027921]\n",
            " [  3.21660635   7.61570237   3.28495428 ...   2.13863357   2.28779659\n",
            "    2.00918283]\n",
            " [ -5.2152718    8.62392449   5.15544842 ...   2.84942624   2.69560667\n",
            "    0.21481734]]\n"
          ],
          "name": "stdout"
        }
      ]
    },
    {
      "cell_type": "markdown",
      "metadata": {
        "id": "OCWZDjaGQzQb"
      },
      "source": [
        "#Cluster 1 Training with Gaussian noise\n",
        "\n",
        "\n",
        "\n"
      ]
    },
    {
      "cell_type": "code",
      "metadata": {
        "colab": {
          "base_uri": "https://localhost:8080/"
        },
        "id": "Tg4c17tcPWe6",
        "outputId": "ecaa990f-490e-4e30-bf08-1ffffac07420"
      },
      "source": [
        "import numpy as np\n",
        "import pandas as pd\n",
        "from sklearn.model_selection import train_test_split\n",
        "from sklearn.metrics import mean_squared_error\n",
        "from sklearn.metrics import mean_absolute_error\n",
        "\n",
        "from IPython import display\n",
        "import matplotlib.pyplot as plt\n",
        "\n",
        "lmb = 0.1\n",
        "lr = 0.001\n",
        "mx_itr = 21600\n",
        "gap = mx_itr / 10\n",
        "view = True\n",
        "\n",
        "model = MF(lmb,learning_rate=lr,max_iteration=mx_itr,rank=30,verbose=True)\n",
        "model.fit(A_train_noise,A_test_noise)\n",
        "# model.graph(testset=True)\n"
      ],
      "execution_count": 13,
      "outputs": [
        {
          "output_type": "stream",
          "text": [
            "iteration 0, TrainMSE: 76.90 TestMSE: 77.00\n",
            "iteration 0, RMSE: 76.90  RMAE: 7.70\n",
            "iteration 2160, TrainMSE: 73.85 TestMSE: 73.95\n",
            "iteration 2160, RMSE: 73.85  RMAE: 7.51\n",
            "iteration 4320, TrainMSE: 71.09 TestMSE: 71.18\n",
            "iteration 4320, RMSE: 71.09  RMAE: 7.35\n",
            "iteration 6480, TrainMSE: 68.43 TestMSE: 68.52\n",
            "iteration 6480, RMSE: 68.43  RMAE: 7.18\n",
            "iteration 8640, TrainMSE: 65.95 TestMSE: 66.04\n",
            "iteration 8640, RMSE: 65.95  RMAE: 7.03\n",
            "iteration 10800, TrainMSE: 63.72 TestMSE: 63.80\n",
            "iteration 10800, RMSE: 63.72  RMAE: 6.88\n",
            "iteration 12960, TrainMSE: 61.61 TestMSE: 61.70\n",
            "iteration 12960, RMSE: 61.61  RMAE: 6.75\n",
            "iteration 15120, TrainMSE: 59.61 TestMSE: 59.69\n",
            "iteration 15120, RMSE: 59.61  RMAE: 6.61\n",
            "iteration 17280, TrainMSE: 57.76 TestMSE: 57.84\n",
            "iteration 17280, RMSE: 57.76  RMAE: 6.49\n",
            "iteration 19440, TrainMSE: 56.06 TestMSE: 56.14\n",
            "iteration 19440, RMSE: 56.06  RMAE: 6.38\n",
            "iteration 21599, TrainMSE: 54.44 TestMSE: 54.51\n",
            "iteration 21599, RMSE: 54.44  RMAE: 6.27\n"
          ],
          "name": "stdout"
        }
      ]
    },
    {
      "cell_type": "markdown",
      "metadata": {
        "id": "ySvSPscWROiS"
      },
      "source": [
        "#Cluster 1 Training without Gaussian noise"
      ]
    },
    {
      "cell_type": "markdown",
      "metadata": {
        "id": "lZbz_PhBRHvt"
      },
      "source": [
        ""
      ]
    },
    {
      "cell_type": "code",
      "metadata": {
        "colab": {
          "base_uri": "https://localhost:8080/"
        },
        "id": "iWuKbVKaRGVm",
        "outputId": "002f55f8-041b-4ccb-cf86-0e34b86b2a59"
      },
      "source": [
        "import numpy as np\n",
        "import pandas as pd\n",
        "from sklearn.model_selection import train_test_split\n",
        "from sklearn.metrics import mean_squared_error\n",
        "from IPython import display\n",
        "import matplotlib.pyplot as plt\n",
        "\n",
        "lmb = 0.1\n",
        "lr = 0.001\n",
        "mx_itr = 21600\n",
        "gap = mx_itr / 10\n",
        "view = True\n",
        "\n",
        "model1 = MF(lmb,learning_rate=lr,max_iteration=mx_itr,rank=30,verbose=True)\n",
        "model1.fit(A_train,A_test)"
      ],
      "execution_count": 14,
      "outputs": [
        {
          "output_type": "stream",
          "text": [
            "iteration 0, TrainMSE: 18.27 TestMSE: 18.53\n",
            "iteration 0, RMSE: 18.27  RMAE: 3.95\n",
            "iteration 2160, TrainMSE: 12.72 TestMSE: 13.11\n",
            "iteration 2160, RMSE: 12.72  RMAE: 3.19\n",
            "iteration 4320, TrainMSE: 9.18 TestMSE: 9.63\n",
            "iteration 4320, RMSE: 9.18  RMAE: 2.60\n",
            "iteration 6480, TrainMSE: 7.00 TestMSE: 7.50\n",
            "iteration 6480, RMSE: 7.00  RMAE: 2.18\n",
            "iteration 8640, TrainMSE: 5.60 TestMSE: 6.06\n",
            "iteration 8640, RMSE: 5.60  RMAE: 1.89\n",
            "iteration 10800, TrainMSE: 4.67 TestMSE: 5.11\n",
            "iteration 10800, RMSE: 4.67  RMAE: 1.70\n",
            "iteration 12960, TrainMSE: 4.09 TestMSE: 4.49\n",
            "iteration 12960, RMSE: 4.09  RMAE: 1.58\n",
            "iteration 15120, TrainMSE: 3.75 TestMSE: 4.12\n",
            "iteration 15120, RMSE: 3.75  RMAE: 1.52\n",
            "iteration 17280, TrainMSE: 3.59 TestMSE: 3.92\n",
            "iteration 17280, RMSE: 3.59  RMAE: 1.50\n",
            "iteration 19440, TrainMSE: 3.54 TestMSE: 3.85\n",
            "iteration 19440, RMSE: 3.54  RMAE: 1.50\n",
            "iteration 21599, TrainMSE: 3.56 TestMSE: 3.83\n",
            "iteration 21599, RMSE: 3.56  RMAE: 1.52\n"
          ],
          "name": "stdout"
        }
      ]
    },
    {
      "cell_type": "markdown",
      "metadata": {
        "id": "iCDu7bvbR-en"
      },
      "source": [
        "#Cluster 2 Training with Gaussian noise\n",
        "\n"
      ]
    },
    {
      "cell_type": "code",
      "metadata": {
        "colab": {
          "base_uri": "https://localhost:8080/"
        },
        "id": "chFNUJ37SAyK",
        "outputId": "199de94a-4cb2-4177-9bd2-b65464ccdc14"
      },
      "source": [
        "import numpy as np\n",
        "import pandas as pd\n",
        "from sklearn.model_selection import train_test_split\n",
        "from sklearn.metrics import mean_squared_error\n",
        "from IPython import display\n",
        "import matplotlib.pyplot as plt\n",
        "\n",
        "lmb = 0.1\n",
        "lr = 0.001\n",
        "mx_itr = 21600\n",
        "gap = mx_itr / 10\n",
        "view = True\n",
        "\n",
        "model2 = MF(lmb,learning_rate=lr,max_iteration=mx_itr,rank=30,verbose=True)\n",
        "model2.fit(A_train_noise2,A_test_noise2)\n"
      ],
      "execution_count": 15,
      "outputs": [
        {
          "output_type": "stream",
          "text": [
            "iteration 0, TrainMSE: 76.81 TestMSE: 76.91\n",
            "iteration 0, RMSE: 76.81  RMAE: 7.69\n",
            "iteration 2160, TrainMSE: 73.82 TestMSE: 73.91\n",
            "iteration 2160, RMSE: 73.82  RMAE: 7.51\n",
            "iteration 4320, TrainMSE: 70.98 TestMSE: 71.07\n",
            "iteration 4320, RMSE: 70.98  RMAE: 7.34\n",
            "iteration 6480, TrainMSE: 68.33 TestMSE: 68.42\n",
            "iteration 6480, RMSE: 68.33  RMAE: 7.17\n",
            "iteration 8640, TrainMSE: 65.87 TestMSE: 65.96\n",
            "iteration 8640, RMSE: 65.87  RMAE: 7.02\n",
            "iteration 10800, TrainMSE: 63.68 TestMSE: 63.76\n",
            "iteration 10800, RMSE: 63.68  RMAE: 6.88\n",
            "iteration 12960, TrainMSE: 61.56 TestMSE: 61.64\n",
            "iteration 12960, RMSE: 61.56  RMAE: 6.74\n",
            "iteration 15120, TrainMSE: 59.61 TestMSE: 59.68\n",
            "iteration 15120, RMSE: 59.61  RMAE: 6.61\n",
            "iteration 17280, TrainMSE: 57.78 TestMSE: 57.86\n",
            "iteration 17280, RMSE: 57.78  RMAE: 6.49\n",
            "iteration 19440, TrainMSE: 56.03 TestMSE: 56.10\n",
            "iteration 19440, RMSE: 56.03  RMAE: 6.37\n",
            "iteration 21599, TrainMSE: 54.46 TestMSE: 54.53\n",
            "iteration 21599, RMSE: 54.46  RMAE: 6.27\n"
          ],
          "name": "stdout"
        }
      ]
    },
    {
      "cell_type": "markdown",
      "metadata": {
        "id": "fJBzJM35SDJj"
      },
      "source": [
        "#Cluster 2 Training without Gaussian noise"
      ]
    },
    {
      "cell_type": "code",
      "metadata": {
        "colab": {
          "base_uri": "https://localhost:8080/"
        },
        "id": "klaQ_uQqSJHU",
        "outputId": "16bc3057-eb4e-4611-95ed-aa0ce82043f7"
      },
      "source": [
        "import numpy as np\n",
        "import pandas as pd\n",
        "from sklearn.model_selection import train_test_split\n",
        "from sklearn.metrics import mean_squared_error\n",
        "from IPython import display\n",
        "import matplotlib.pyplot as plt\n",
        "\n",
        "lmb = 0.1\n",
        "lr = 0.001\n",
        "mx_itr = 21600\n",
        "gap = mx_itr / 10\n",
        "view = True\n",
        "\n",
        "model3 = MF(lmb,learning_rate=lr,max_iteration=mx_itr,rank=30,verbose=True)\n",
        "model3.fit(A_train2,A_test2)"
      ],
      "execution_count": 16,
      "outputs": [
        {
          "output_type": "stream",
          "text": [
            "iteration 0, TrainMSE: 19.16 TestMSE: 19.82\n",
            "iteration 0, RMSE: 19.16  RMAE: 4.04\n",
            "iteration 2160, TrainMSE: 13.94 TestMSE: 14.75\n",
            "iteration 2160, RMSE: 13.94  RMAE: 3.37\n",
            "iteration 4320, TrainMSE: 10.40 TestMSE: 11.27\n",
            "iteration 4320, RMSE: 10.40  RMAE: 2.82\n",
            "iteration 6480, TrainMSE: 8.02 TestMSE: 8.86\n",
            "iteration 6480, RMSE: 8.02  RMAE: 2.39\n",
            "iteration 8640, TrainMSE: 6.38 TestMSE: 7.18\n",
            "iteration 8640, RMSE: 6.38  RMAE: 2.07\n",
            "iteration 10800, TrainMSE: 5.24 TestMSE: 5.96\n",
            "iteration 10800, RMSE: 5.24  RMAE: 1.83\n",
            "iteration 12960, TrainMSE: 4.47 TestMSE: 5.14\n",
            "iteration 12960, RMSE: 4.47  RMAE: 1.67\n",
            "iteration 15120, TrainMSE: 3.95 TestMSE: 4.55\n",
            "iteration 15120, RMSE: 3.95  RMAE: 1.56\n",
            "iteration 17280, TrainMSE: 3.60 TestMSE: 4.16\n",
            "iteration 17280, RMSE: 3.60  RMAE: 1.49\n",
            "iteration 19440, TrainMSE: 3.40 TestMSE: 3.89\n",
            "iteration 19440, RMSE: 3.40  RMAE: 1.46\n",
            "iteration 21599, TrainMSE: 3.30 TestMSE: 3.73\n",
            "iteration 21599, RMSE: 3.30  RMAE: 1.44\n"
          ],
          "name": "stdout"
        }
      ]
    },
    {
      "cell_type": "markdown",
      "metadata": {
        "id": "RsJB39sKSYjC"
      },
      "source": [
        "#Cluster 3 Training with Gaussian noise\n",
        "\n"
      ]
    },
    {
      "cell_type": "code",
      "metadata": {
        "colab": {
          "base_uri": "https://localhost:8080/"
        },
        "id": "Sqh0nbfhSIAU",
        "outputId": "6d4eb361-22dc-4eff-ac24-2ba461ee8412"
      },
      "source": [
        "import numpy as np\n",
        "import pandas as pd\n",
        "from sklearn.model_selection import train_test_split\n",
        "from sklearn.metrics import mean_squared_error\n",
        "from IPython import display\n",
        "import matplotlib.pyplot as plt\n",
        "\n",
        "lmb = 0.1\n",
        "lr = 0.001\n",
        "mx_itr = 21600\n",
        "gap = mx_itr / 10\n",
        "view = True\n",
        "\n",
        "model4 = MF(lmb,learning_rate=lr,max_iteration=mx_itr,rank=30,verbose=True)\n",
        "model4.fit(A_train_noise3,A_test_noise3)"
      ],
      "execution_count": 17,
      "outputs": [
        {
          "output_type": "stream",
          "text": [
            "iteration 0, TrainMSE: 76.72 TestMSE: 76.82\n",
            "iteration 0, RMSE: 76.72  RMAE: 7.69\n",
            "iteration 2160, TrainMSE: 73.70 TestMSE: 73.79\n",
            "iteration 2160, RMSE: 73.70  RMAE: 7.51\n",
            "iteration 4320, TrainMSE: 70.90 TestMSE: 70.99\n",
            "iteration 4320, RMSE: 70.90  RMAE: 7.33\n",
            "iteration 6480, TrainMSE: 68.33 TestMSE: 68.42\n",
            "iteration 6480, RMSE: 68.33  RMAE: 7.17\n",
            "iteration 8640, TrainMSE: 65.92 TestMSE: 66.01\n",
            "iteration 8640, RMSE: 65.92  RMAE: 7.02\n",
            "iteration 10800, TrainMSE: 63.69 TestMSE: 63.78\n",
            "iteration 10800, RMSE: 63.69  RMAE: 6.88\n",
            "iteration 12960, TrainMSE: 61.57 TestMSE: 61.65\n",
            "iteration 12960, RMSE: 61.57  RMAE: 6.74\n",
            "iteration 15120, TrainMSE: 59.63 TestMSE: 59.70\n",
            "iteration 15120, RMSE: 59.63  RMAE: 6.62\n",
            "iteration 17280, TrainMSE: 57.82 TestMSE: 57.90\n",
            "iteration 17280, RMSE: 57.82  RMAE: 6.50\n",
            "iteration 19440, TrainMSE: 56.16 TestMSE: 56.23\n",
            "iteration 19440, RMSE: 56.16  RMAE: 6.38\n",
            "iteration 21599, TrainMSE: 54.52 TestMSE: 54.59\n",
            "iteration 21599, RMSE: 54.52  RMAE: 6.27\n"
          ],
          "name": "stdout"
        }
      ]
    },
    {
      "cell_type": "markdown",
      "metadata": {
        "id": "QbsnusoHSbcw"
      },
      "source": [
        "#Cluster 3 Training without Gaussian noise"
      ]
    },
    {
      "cell_type": "code",
      "metadata": {
        "colab": {
          "base_uri": "https://localhost:8080/"
        },
        "id": "62IbRt48ShRI",
        "outputId": "19e4a61d-02bc-4574-fd60-6ca4cb0a83c1"
      },
      "source": [
        "import numpy as np\n",
        "import pandas as pd\n",
        "from sklearn.model_selection import train_test_split\n",
        "from sklearn.metrics import mean_squared_error\n",
        "from IPython import display\n",
        "import matplotlib.pyplot as plt\n",
        "\n",
        "lmb = 0.1\n",
        "lr = 0.001\n",
        "mx_itr = 21600\n",
        "gap = mx_itr / 10\n",
        "view = True\n",
        "\n",
        "model5 = MF(lmb,learning_rate=lr,max_iteration=mx_itr,rank=30,verbose=True)\n",
        "model5.fit(A_train3,A_test3)\n"
      ],
      "execution_count": 18,
      "outputs": [
        {
          "output_type": "stream",
          "text": [
            "iteration 0, TrainMSE: 18.36 TestMSE: 18.23\n",
            "iteration 0, RMSE: 18.36  RMAE: 3.97\n",
            "iteration 2160, TrainMSE: 13.76 TestMSE: 13.71\n",
            "iteration 2160, RMSE: 13.76  RMAE: 3.36\n",
            "iteration 4320, TrainMSE: 10.57 TestMSE: 10.63\n",
            "iteration 4320, RMSE: 10.57  RMAE: 2.85\n",
            "iteration 6480, TrainMSE: 8.34 TestMSE: 8.47\n",
            "iteration 6480, RMSE: 8.34  RMAE: 2.46\n",
            "iteration 8640, TrainMSE: 6.78 TestMSE: 6.99\n",
            "iteration 8640, RMSE: 6.78  RMAE: 2.15\n",
            "iteration 10800, TrainMSE: 5.65 TestMSE: 5.91\n",
            "iteration 10800, RMSE: 5.65  RMAE: 1.92\n",
            "iteration 12960, TrainMSE: 4.82 TestMSE: 5.11\n",
            "iteration 12960, RMSE: 4.82  RMAE: 1.74\n",
            "iteration 15120, TrainMSE: 4.22 TestMSE: 4.54\n",
            "iteration 15120, RMSE: 4.22  RMAE: 1.61\n",
            "iteration 17280, TrainMSE: 3.82 TestMSE: 4.14\n",
            "iteration 17280, RMSE: 3.82  RMAE: 1.52\n",
            "iteration 19440, TrainMSE: 3.53 TestMSE: 3.86\n",
            "iteration 19440, RMSE: 3.53  RMAE: 1.46\n",
            "iteration 21599, TrainMSE: 3.36 TestMSE: 3.69\n",
            "iteration 21599, RMSE: 3.36  RMAE: 1.43\n"
          ],
          "name": "stdout"
        }
      ]
    },
    {
      "cell_type": "markdown",
      "metadata": {
        "id": "Z7H2pQ3oSmnK"
      },
      "source": [
        "#Cluster 4 Training with Gaussian noise\n"
      ]
    },
    {
      "cell_type": "code",
      "metadata": {
        "colab": {
          "base_uri": "https://localhost:8080/"
        },
        "id": "SfrZ1rUJSqVa",
        "outputId": "ac8bd5e0-f887-43c5-91a8-99da44ecd67c"
      },
      "source": [
        "import numpy as np\n",
        "import pandas as pd\n",
        "from sklearn.model_selection import train_test_split\n",
        "from sklearn.metrics import mean_squared_error\n",
        "from IPython import display\n",
        "import matplotlib.pyplot as plt\n",
        "\n",
        "lmb = 0.1\n",
        "lr = 0.001\n",
        "mx_itr = 21600\n",
        "gap = mx_itr / 10\n",
        "view = True\n",
        "\n",
        "model6 = MF(lmb,learning_rate=lr,max_iteration=mx_itr,rank=30,verbose=True)\n",
        "model6.fit(A_train_noise4,A_test_noise4)\n"
      ],
      "execution_count": 20,
      "outputs": [
        {
          "output_type": "stream",
          "text": [
            "iteration 0, TrainMSE: 76.56 TestMSE: 76.66\n",
            "iteration 0, RMSE: 76.56  RMAE: 7.68\n",
            "iteration 2160, TrainMSE: 73.50 TestMSE: 73.59\n",
            "iteration 2160, RMSE: 73.50  RMAE: 7.49\n",
            "iteration 4320, TrainMSE: 70.66 TestMSE: 70.76\n",
            "iteration 4320, RMSE: 70.66  RMAE: 7.32\n",
            "iteration 6480, TrainMSE: 68.09 TestMSE: 68.17\n",
            "iteration 6480, RMSE: 68.09  RMAE: 7.16\n",
            "iteration 8640, TrainMSE: 65.69 TestMSE: 65.77\n",
            "iteration 8640, RMSE: 65.69  RMAE: 7.01\n",
            "iteration 10800, TrainMSE: 63.43 TestMSE: 63.51\n",
            "iteration 10800, RMSE: 63.43  RMAE: 6.86\n",
            "iteration 12960, TrainMSE: 61.37 TestMSE: 61.45\n",
            "iteration 12960, RMSE: 61.37  RMAE: 6.73\n",
            "iteration 15120, TrainMSE: 59.41 TestMSE: 59.49\n",
            "iteration 15120, RMSE: 59.41  RMAE: 6.60\n",
            "iteration 17280, TrainMSE: 57.61 TestMSE: 57.68\n",
            "iteration 17280, RMSE: 57.61  RMAE: 6.48\n",
            "iteration 19440, TrainMSE: 55.91 TestMSE: 55.98\n",
            "iteration 19440, RMSE: 55.91  RMAE: 6.37\n",
            "iteration 21599, TrainMSE: 54.30 TestMSE: 54.37\n",
            "iteration 21599, RMSE: 54.30  RMAE: 6.26\n"
          ],
          "name": "stdout"
        }
      ]
    },
    {
      "cell_type": "markdown",
      "metadata": {
        "id": "9P2a_wT8R4sh"
      },
      "source": [
        "#Cluster 4 Training without Gaussian noise"
      ]
    },
    {
      "cell_type": "code",
      "metadata": {
        "colab": {
          "base_uri": "https://localhost:8080/"
        },
        "id": "-fAFHG06Sw6y",
        "outputId": "74d2f288-fc1b-4ddc-9dd9-93e6b1f0f502"
      },
      "source": [
        "import numpy as np\n",
        "import pandas as pd\n",
        "from sklearn.model_selection import train_test_split\n",
        "from sklearn.metrics import mean_squared_error\n",
        "from IPython import display\n",
        "import matplotlib.pyplot as plt\n",
        "\n",
        "lmb = 0.1\n",
        "lr = 0.001\n",
        "mx_itr = 21600\n",
        "gap = mx_itr / 10\n",
        "view = True\n",
        "\n",
        "model7 = MF(lmb,learning_rate=lr,max_iteration=mx_itr,rank=30,verbose=True)\n",
        "model7.fit(A_train4,A_test4)\n"
      ],
      "execution_count": 21,
      "outputs": [
        {
          "output_type": "stream",
          "text": [
            "iteration 0, TrainMSE: 18.90 TestMSE: 19.14\n",
            "iteration 0, RMSE: 18.90  RMAE: 4.02\n",
            "iteration 2160, TrainMSE: 14.13 TestMSE: 14.56\n",
            "iteration 2160, RMSE: 14.13  RMAE: 3.40\n",
            "iteration 4320, TrainMSE: 10.71 TestMSE: 11.27\n",
            "iteration 4320, RMSE: 10.71  RMAE: 2.87\n",
            "iteration 6480, TrainMSE: 8.40 TestMSE: 8.97\n",
            "iteration 6480, RMSE: 8.40  RMAE: 2.47\n",
            "iteration 8640, TrainMSE: 6.79 TestMSE: 7.38\n",
            "iteration 8640, RMSE: 6.79  RMAE: 2.16\n",
            "iteration 10800, TrainMSE: 5.66 TestMSE: 6.22\n",
            "iteration 10800, RMSE: 5.66  RMAE: 1.92\n",
            "iteration 12960, TrainMSE: 4.85 TestMSE: 5.38\n",
            "iteration 12960, RMSE: 4.85  RMAE: 1.75\n",
            "iteration 15120, TrainMSE: 4.27 TestMSE: 4.77\n",
            "iteration 15120, RMSE: 4.27  RMAE: 1.63\n",
            "iteration 17280, TrainMSE: 3.88 TestMSE: 4.35\n",
            "iteration 17280, RMSE: 3.88  RMAE: 1.55\n",
            "iteration 19440, TrainMSE: 3.62 TestMSE: 4.04\n",
            "iteration 19440, RMSE: 3.62  RMAE: 1.49\n",
            "iteration 21599, TrainMSE: 3.46 TestMSE: 3.83\n",
            "iteration 21599, RMSE: 3.46  RMAE: 1.46\n"
          ],
          "name": "stdout"
        }
      ]
    },
    {
      "cell_type": "markdown",
      "metadata": {
        "id": "30noh9CiTp9c"
      },
      "source": [
        "# Recommender System Inference"
      ]
    },
    {
      "cell_type": "code",
      "metadata": {
        "id": "W-QsPJTMPWo9"
      },
      "source": [
        "import json\n",
        "import requests\n",
        "import numpy as np\n",
        "\n",
        "\n",
        "def store_score_matrix(model,name='Aladdin'):\n",
        "    # might return multiple movies\n",
        "    movieids =  item[item['movie_title'].str.contains(name)].index.values\n",
        "    if len(movieids) == 0:\n",
        "        print('No movie found by that name. Remember, searching is case-sensitive')\n",
        "        return\n",
        "    print('Found ',len(movieids),'searching by: ',item.loc[movieids[0],'movie_title'])\n",
        "    query = model.V[movieids[0]] # a single movie embedding\n",
        "    sim_vector = model.predict(query)\n",
        "    out_arr = np.array_str(sim_vector, precision = 6, suppress_small = True)\n",
        "    # print(\"Score matrix is \",out_arr)\n",
        "    createurl = \"http://80.209.228.87:5001/data_encrypt_api\"\n",
        "    headers = {'content-Type': 'application/json'}\n",
        "    payload = {\n",
        "        \"block_no\": \"null\",\n",
        "        \"block_hash\":{\"data\":out_arr}\n",
        "\n",
        "    }\n",
        "    response = requests.post(createurl,data=json.dumps(payload),headers=headers)\n",
        "    print(response.status_code)\n",
        "    print(response.json())\n",
        "    # item['similarity'] = sim_vector\n",
        "    # top5 = item.sort_values(['similarity'],axis=0,inplace=False,ascending=False)[\n",
        "    #     ['itemid','movie_title','genre','similarity','IMDb_URL']\n",
        "    # ].head()\n",
        "    # display.display(top5)\n",
        "\n",
        "def retrive_score_matrix(sim_vector):\n",
        "\n",
        "    item['similarity'] = sim_vector\n",
        "    top5 = item.sort_values(['similarity'],axis=0,inplace=False,ascending=False)[\n",
        "        ['itemid','movie_title','genre','similarity','IMDb_URL']\n",
        "    ].head()\n",
        "#     top5 = top5.append(item.loc[movieids[0],['itemid','movie_title','genre','similarity']])\n",
        "    display.display(top5)\n",
        "\n",
        "\n",
        "\n",
        "def get_movie_suggestion(model,name='Aladdin'):\n",
        "    # might return multiple movies\n",
        "    movieids =  item[item['movie_title'].str.contains(name)].index.values\n",
        "    if len(movieids) == 0:\n",
        "        print('No movie found by that name. Remember, searching is case-sensitive')\n",
        "        return\n",
        "    print('Found ',len(movieids),'searching by: ',item.loc[movieids[0],'movie_title'])\n",
        "    query = model.V[movieids[0]] # a single movie embedding\n",
        "    sim_vector = model.predict(query)\n",
        "    print(\"Score matrix is \",sim_vector)\n",
        "    item['similarity'] = sim_vector\n",
        "    top5 = item.sort_values(['similarity'],axis=0,inplace=False,ascending=False)[\n",
        "        ['itemid','movie_title','genre','similarity','IMDb_URL']\n",
        "    ].head()\n",
        "#     top5 = top5.append(item.loc[movieids[0],['itemid','movie_title','genre','similarity']])\n",
        "    display.display(top5)"
      ],
      "execution_count": 34,
      "outputs": []
    },
    {
      "cell_type": "markdown",
      "metadata": {
        "id": "LmJNhrJJAkvc"
      },
      "source": [
        "#Secured Scorematrix Storage"
      ]
    },
    {
      "cell_type": "code",
      "metadata": {
        "colab": {
          "base_uri": "https://localhost:8080/"
        },
        "id": "kcwIFjpRQnMf",
        "outputId": "beac926e-8d36-4e30-c059-c0bbfb5af821"
      },
      "source": [
        "# data\n",
        "itemcol = [w.strip().replace(\" \",\"_\") for w in \"itemid | movie_title | release_date | video release date |IMDb URL | unknown | Action | Adventure | Animation |Children's | Comedy | Crime | Documentary | Drama | Fantasy |Film-Noir | Horror | Musical | Mystery | Romance | Sci-Fi |Thriller | War | Western |\".split('|')]\n",
        "itemcol.remove('')\n",
        "item = pd.read_csv(\"project/u.item\",delimiter='|',\n",
        "                   names=itemcol,encoding='latin_1')\n",
        "\n",
        "item['itemid'] = item['itemid'].apply(lambda x: x - 1)\n",
        "# Genre aggregate\n",
        "def genre(series):\n",
        "    genres = series.index[6:-2]\n",
        "    \n",
        "    text = []\n",
        "    for i in genres:\n",
        "        if series[i] == 1:\n",
        "            text.append(i)\n",
        "    return \", \".join(text)\n",
        "item['genre'] = item.apply(genre,axis=1)\n",
        "store_score_matrix(model7,name='Devil in a Blue Dress') ## here you can change model name and check for each clusters.Eg: model1 or model2 or model 3"
      ],
      "execution_count": 35,
      "outputs": [
        {
          "output_type": "stream",
          "text": [
            "Found  1 searching by:  Devil in a Blue Dress (1995)\n",
            "200\n",
            "{'block_no': '13', 'block_hash': 'U2FsdGVkX18Fte7WDj4/NpV+lnJyh2Md+9w0BP42WF3ghd3LmYQeA5ZDpntaQar5LUy7c2+p8kRyPDf4uFtCGBgzHZ2zKs3DjpLfivsNE/xaHAwIKZIs2+ZZnaxdT+ce67MuSAA6uA8/Zx3bVulmXNwZJuTeaf/Aq8eBIxzG/nw+ns/y2LvovweahV9S6hVbrcfWtLLB7/47zhImkh+9bfJrdlxrTFXtj5+JQ5LAQYcNDJcMKX0vp8xZqQkmKQ9EsaO9zY1OkvkNW64uj29labQZEmTvZQv3lNptC8idgEJmLgZ/djU4qAO02IPrKLpHxCHlD3Ts1EXkWKQbcHogEQ==244210e48437b6556980a70249a99369934a352429034cef9d7bd253b3bf2c01', '_id': 'cknr5dwtv000301mq4detbpnw', '__v': 0}\n"
          ],
          "name": "stdout"
        }
      ]
    },
    {
      "cell_type": "markdown",
      "metadata": {
        "id": "s9CVsw-_YQpx"
      },
      "source": [
        "#Secure Score Matrix Retrive and Prediction"
      ]
    },
    {
      "cell_type": "code",
      "metadata": {
        "colab": {
          "base_uri": "https://localhost:8080/",
          "height": 221
        },
        "id": "vk0D2nUDBDJK",
        "outputId": "f1143483-4931-4f7f-bc67-80e5fe3ce5b9"
      },
      "source": [
        "createurl = \"http://80.209.228.87:5001/data_decrypt_api\"\n",
        "headers = {'content-Type': 'application/json'}\n",
        "\n",
        "response = requests.get(createurl,headers=headers)\n",
        "print(response.status_code)\n",
        "a = response.json()\n",
        "retrive_score_matrix(a['data'])\n"
      ],
      "execution_count": 36,
      "outputs": [
        {
          "output_type": "stream",
          "text": [
            "200\n"
          ],
          "name": "stdout"
        },
        {
          "output_type": "display_data",
          "data": {
            "text/html": [
              "<div>\n",
              "<style scoped>\n",
              "    .dataframe tbody tr th:only-of-type {\n",
              "        vertical-align: middle;\n",
              "    }\n",
              "\n",
              "    .dataframe tbody tr th {\n",
              "        vertical-align: top;\n",
              "    }\n",
              "\n",
              "    .dataframe thead th {\n",
              "        text-align: right;\n",
              "    }\n",
              "</style>\n",
              "<table border=\"1\" class=\"dataframe\">\n",
              "  <thead>\n",
              "    <tr style=\"text-align: right;\">\n",
              "      <th></th>\n",
              "      <th>itemid</th>\n",
              "      <th>movie_title</th>\n",
              "      <th>genre</th>\n",
              "      <th>similarity</th>\n",
              "      <th>IMDb_URL</th>\n",
              "    </tr>\n",
              "  </thead>\n",
              "  <tbody>\n",
              "    <tr>\n",
              "      <th>0</th>\n",
              "      <td>0</td>\n",
              "      <td>Toy Story (1995)</td>\n",
              "      <td>Animation, Children's, Comedy</td>\n",
              "      <td>[0.682075 0.662934 0.529242 ... 0.680333 0.646...</td>\n",
              "      <td>http://us.imdb.com/M/title-exact?Toy%20Story%2...</td>\n",
              "    </tr>\n",
              "    <tr>\n",
              "      <th>1104</th>\n",
              "      <td>1104</td>\n",
              "      <td>Firestorm (1998)</td>\n",
              "      <td>Action, Adventure, Thriller</td>\n",
              "      <td>[0.682075 0.662934 0.529242 ... 0.680333 0.646...</td>\n",
              "      <td>http://us.imdb.com/M/title-exact?imdb-title-12...</td>\n",
              "    </tr>\n",
              "    <tr>\n",
              "      <th>1128</th>\n",
              "      <td>1128</td>\n",
              "      <td>Chungking Express (1994)</td>\n",
              "      <td>Drama, Mystery, Romance</td>\n",
              "      <td>[0.682075 0.662934 0.529242 ... 0.680333 0.646...</td>\n",
              "      <td>http://us.imdb.com/M/title-exact?Chongqing%20S...</td>\n",
              "    </tr>\n",
              "    <tr>\n",
              "      <th>1127</th>\n",
              "      <td>1127</td>\n",
              "      <td>Heidi Fleiss: Hollywood Madam (1995)</td>\n",
              "      <td>Documentary</td>\n",
              "      <td>[0.682075 0.662934 0.529242 ... 0.680333 0.646...</td>\n",
              "      <td>http://us.imdb.com/M/title-exact?Heidi%20Fleis...</td>\n",
              "    </tr>\n",
              "    <tr>\n",
              "      <th>1126</th>\n",
              "      <td>1126</td>\n",
              "      <td>Truman Show, The (1998)</td>\n",
              "      <td>Drama</td>\n",
              "      <td>[0.682075 0.662934 0.529242 ... 0.680333 0.646...</td>\n",
              "      <td>http://us.imdb.com/Title?Truman+Show,+The+(1998)</td>\n",
              "    </tr>\n",
              "  </tbody>\n",
              "</table>\n",
              "</div>"
            ],
            "text/plain": [
              "      itemid  ...                                           IMDb_URL\n",
              "0          0  ...  http://us.imdb.com/M/title-exact?Toy%20Story%2...\n",
              "1104    1104  ...  http://us.imdb.com/M/title-exact?imdb-title-12...\n",
              "1128    1128  ...  http://us.imdb.com/M/title-exact?Chongqing%20S...\n",
              "1127    1127  ...  http://us.imdb.com/M/title-exact?Heidi%20Fleis...\n",
              "1126    1126  ...   http://us.imdb.com/Title?Truman+Show,+The+(1998)\n",
              "\n",
              "[5 rows x 5 columns]"
            ]
          },
          "metadata": {
            "tags": []
          }
        }
      ]
    }
  ]
}